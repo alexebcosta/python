{
 "cells": [
  {
   "cell_type": "code",
   "execution_count": 17,
   "id": "c7a064e3",
   "metadata": {},
   "outputs": [],
   "source": [
    "import matplotlib as mpl\n",
    "import matplotlib.pyplot as plt\n",
    "import numpy as np\n",
    "from ipywidgets import *"
   ]
  },
  {
   "cell_type": "code",
   "execution_count": 18,
   "id": "81bae8a6",
   "metadata": {},
   "outputs": [],
   "source": [
    "def x_y_2D(A,B,alpha,delta,omegax,omegay,t):\n",
    "    x=A*np.cos(omegax*t-alpha)\n",
    "    y=B*np.cos(omegay*t-(alpha-delta))\n",
    "    return x,y"
   ]
  },
  {
   "cell_type": "code",
   "execution_count": 43,
   "id": "137739f1",
   "metadata": {
    "scrolled": true
   },
   "outputs": [],
   "source": [
    "def f(i):\n",
    "    A=1\n",
    "    B=1\n",
    "\n",
    "    omegax=1\n",
    "    omegay=(1)*omegax\n",
    "\n",
    "    #alpha=-np.pi/2\n",
    "    alpha=-0\n",
    "    \n",
    "    t=np.linspace(0,8*np.pi,1000)\n",
    "    fig,ax=plt.subplots(figsize=(3,3),dpi=150)\n",
    "    \n",
    "    #delta=-np.pi/2\n",
    "    #delta=-(3*np.pi/2-np.pi/6-np.pi/6-np.pi/6-np.pi/6)\n",
    "    delta=-(np.pi/6+np.pi/6)\n",
    "    \n",
    "    x,y=x_y_2D(A,B,alpha,delta,omegax,omegay,t)\n",
    "    ax.plot(x[:i],y[:i])\n",
    "    ax.plot(x[i-1],y[i-1],marker='o', markersize=8,markerfacecolor=\"white\")\n",
    "    ax.set_aspect('equal')\n",
    "    ax.set_xlim([-1.1,1.1])\n",
    "    ax.set_xlabel(r'$x$',fontsize=18)\n",
    "    ax.set_xticks([-1,0,1])\n",
    "    ax.set_xticklabels([r'$-A$',r'$0$',r'$A$'],fontsize=12)\n",
    "\n",
    "    ax.set_ylabel(r'$y$',fontsize=18)\n",
    "    ax.set_ylim([-1.1,1.1])\n",
    "    ax.set_yticks([-1,0,1])\n",
    "    ax.set_yticklabels([r'$-B$',r'$0$',r'$B$'],fontsize=12)"
   ]
  },
  {
   "cell_type": "code",
   "execution_count": null,
   "id": "f9ce4455",
   "metadata": {},
   "outputs": [],
   "source": []
  },
  {
   "cell_type": "code",
   "execution_count": 44,
   "id": "61b1a725",
   "metadata": {},
   "outputs": [
    {
     "data": {
      "application/vnd.jupyter.widget-view+json": {
       "model_id": "0904165a5a35421f8e94a134602bb634",
       "version_major": 2,
       "version_minor": 0
      },
      "text/plain": [
       "interactive(children=(Play(value=0, description='i', interval=5, max=1000), Output()), _dom_classes=('widget-i…"
      ]
     },
     "metadata": {},
     "output_type": "display_data"
    }
   ],
   "source": [
    "interactive(f, i=Play(value=0, min=0, max=1000, step=1, interval=5))"
   ]
  },
  {
   "cell_type": "code",
   "execution_count": null,
   "id": "cd2b6178",
   "metadata": {},
   "outputs": [],
   "source": []
  },
  {
   "cell_type": "code",
   "execution_count": null,
   "id": "ee8bce27",
   "metadata": {},
   "outputs": [],
   "source": []
  }
 ],
 "metadata": {
  "hide_input": false,
  "kernelspec": {
   "display_name": "Python 3",
   "language": "python",
   "name": "python3"
  },
  "language_info": {
   "codemirror_mode": {
    "name": "ipython",
    "version": 3
   },
   "file_extension": ".py",
   "mimetype": "text/x-python",
   "name": "python",
   "nbconvert_exporter": "python",
   "pygments_lexer": "ipython3",
   "version": "3.8.8"
  },
  "latex_envs": {
   "LaTeX_envs_menu_present": true,
   "autoclose": false,
   "autocomplete": true,
   "bibliofile": "biblio.bib",
   "cite_by": "apalike",
   "current_citInitial": 1,
   "eqLabelWithNumbers": true,
   "eqNumInitial": 1,
   "hotkeys": {
    "equation": "Ctrl-E",
    "itemize": "Ctrl-I"
   },
   "labels_anchors": false,
   "latex_user_defs": false,
   "report_style_numbering": false,
   "user_envs_cfg": false
  }
 },
 "nbformat": 4,
 "nbformat_minor": 5
}
